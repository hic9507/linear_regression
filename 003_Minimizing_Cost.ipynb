{
  "nbformat": 4,
  "nbformat_minor": 0,
  "metadata": {
    "colab": {
      "provenance": []
    },
    "kernelspec": {
      "name": "python3",
      "display_name": "Python 3"
    },
    "language_info": {
      "name": "python"
    }
  },
  "cells": [
    {
      "cell_type": "markdown",
      "source": [
        "## colab에 설치된 프로그램 버전 확인"
      ],
      "metadata": {
        "id": "cYGprDoY6zDH"
      }
    },
    {
      "cell_type": "code",
      "source": [
        "import tensorflow as tf\n",
        "\n",
        "# Check Tensorfolw version!\n",
        "print(\"Tensorflow \", tf.__version__)\n",
        "# Check Python version!\n",
        "!python --version"
      ],
      "metadata": {
        "colab": {
          "base_uri": "https://localhost:8080/"
        },
        "id": "CMQATvo0xsPx",
        "outputId": "f82b78a8-d524-4880-f046-4e4b387dec50"
      },
      "execution_count": 1,
      "outputs": [
        {
          "output_type": "stream",
          "name": "stdout",
          "text": [
            "Tensorflow  2.13.0\n",
            "Python 3.10.12\n"
          ]
        }
      ]
    },
    {
      "cell_type": "markdown",
      "source": [
        "## python을 사용하여 cost function(비용함수) 구현"
      ],
      "metadata": {
        "id": "Js7eMH467G9E"
      }
    },
    {
      "cell_type": "code",
      "source": [
        "import numpy as np\n",
        "\n",
        "X = np.array([1, 2, 3])\n",
        "Y = np.array([1, 2, 3])  # 입력 데이터 정의\n",
        "\n",
        "def cost_func(W, X, Y):\n",
        "  cost = 0\n",
        "  for i in range(len(X)):\n",
        "    cost = cost + (W * X[i] - Y[i]) ** 2\n",
        "  return cost/ len(X)\n",
        "\n",
        "for feed_W in np.linspace(0, 2, num=3):\n",
        "  cur_cost = cost_func(feed_W, X, Y)\n",
        "  print(\"W = {}.... Cost ={}\".format(feed_W, cur_cost))\n",
        "\n"
      ],
      "metadata": {
        "colab": {
          "base_uri": "https://localhost:8080/"
        },
        "id": "2BKUxcoa5OJG",
        "outputId": "6030d08c-6c70-4ff7-f3a6-c4b168dd0c28"
      },
      "execution_count": 3,
      "outputs": [
        {
          "output_type": "stream",
          "name": "stdout",
          "text": [
            "W = 0.0.... Cost =4.666666666666667\n",
            "W = 1.0.... Cost =0.0\n",
            "W = 2.0.... Cost =4.666666666666667\n"
          ]
        }
      ]
    },
    {
      "cell_type": "markdown",
      "source": [
        "## tensorflow을 사용하여 cost function(비용함수) 구현"
      ],
      "metadata": {
        "id": "PWhargSQ7_Qg"
      }
    },
    {
      "cell_type": "code",
      "source": [
        "X = np.array([1, 2, 3])\n",
        "Y = np.array([1, 2, 3])\n",
        "\n",
        "def cost_func(W, X, Y):\n",
        "  hypothesis = X * W\n",
        "  return tf.reduce_mean(tf.square(hypothesis - Y))\n",
        "\n",
        "\n",
        "W_values = np.linspace(-2, 4, num=100)\n",
        "cost_values = []\n",
        "\n",
        "for feed_W in W_values:\n",
        "    curr_cost = cost_func(feed_W, X, Y)\n",
        "    cost_values.append(curr_cost)\n",
        "   #print(\"cost_values = \", cost_values)\n",
        "    print(\"{:6.3f} | {:10.5f}\".format(feed_W, curr_cost))\n",
        "\n",
        "print(\"Weight Values={} \\nCost Values= {}\". format(W_values, cost_values))"
      ],
      "metadata": {
        "id": "5Rl0aso41-Dw",
        "colab": {
          "base_uri": "https://localhost:8080/"
        },
        "outputId": "4076d89f-2e41-4c26-f90e-0470a1f199ea"
      },
      "execution_count": 5,
      "outputs": [
        {
          "output_type": "stream",
          "name": "stdout",
          "text": [
            "-2.000 |   42.00000\n",
            "-1.939 |   40.32017\n",
            "-1.879 |   38.67463\n",
            "-1.818 |   37.06336\n",
            "-1.758 |   35.48638\n",
            "-1.697 |   33.94368\n",
            "-1.636 |   32.43526\n",
            "-1.576 |   30.96113\n",
            "-1.515 |   29.52127\n",
            "-1.455 |   28.11570\n",
            "-1.394 |   26.74441\n",
            "-1.333 |   25.40741\n",
            "-1.273 |   24.10468\n",
            "-1.212 |   22.83624\n",
            "-1.152 |   21.60208\n",
            "-1.091 |   20.40220\n",
            "-1.030 |   19.23661\n",
            "-0.970 |   18.10530\n",
            "-0.909 |   17.00826\n",
            "-0.848 |   15.94552\n",
            "-0.788 |   14.91705\n",
            "-0.727 |   13.92287\n",
            "-0.667 |   12.96296\n",
            "-0.606 |   12.03734\n",
            "-0.545 |   11.14601\n",
            "-0.485 |   10.28895\n",
            "-0.424 |    9.46618\n",
            "-0.364 |    8.67769\n",
            "-0.303 |    7.92348\n",
            "-0.242 |    7.20355\n",
            "-0.182 |    6.51791\n",
            "-0.121 |    5.86654\n",
            "-0.061 |    5.24946\n",
            " 0.000 |    4.66667\n",
            " 0.061 |    4.11815\n",
            " 0.121 |    3.60392\n",
            " 0.182 |    3.12397\n",
            " 0.242 |    2.67830\n",
            " 0.303 |    2.26691\n",
            " 0.364 |    1.88981\n",
            " 0.424 |    1.54699\n",
            " 0.485 |    1.23845\n",
            " 0.545 |    0.96419\n",
            " 0.606 |    0.72421\n",
            " 0.667 |    0.51852\n",
            " 0.727 |    0.34711\n",
            " 0.788 |    0.20998\n",
            " 0.848 |    0.10713\n",
            " 0.909 |    0.03857\n",
            " 0.970 |    0.00429\n",
            " 1.030 |    0.00429\n",
            " 1.091 |    0.03857\n",
            " 1.152 |    0.10713\n",
            " 1.212 |    0.20998\n",
            " 1.273 |    0.34711\n",
            " 1.333 |    0.51852\n",
            " 1.394 |    0.72421\n",
            " 1.455 |    0.96419\n",
            " 1.515 |    1.23845\n",
            " 1.576 |    1.54699\n",
            " 1.636 |    1.88981\n",
            " 1.697 |    2.26691\n",
            " 1.758 |    2.67830\n",
            " 1.818 |    3.12397\n",
            " 1.879 |    3.60392\n",
            " 1.939 |    4.11815\n",
            " 2.000 |    4.66667\n",
            " 2.061 |    5.24946\n",
            " 2.121 |    5.86654\n",
            " 2.182 |    6.51791\n",
            " 2.242 |    7.20355\n",
            " 2.303 |    7.92348\n",
            " 2.364 |    8.67769\n",
            " 2.424 |    9.46618\n",
            " 2.485 |   10.28895\n",
            " 2.545 |   11.14601\n",
            " 2.606 |   12.03734\n",
            " 2.667 |   12.96296\n",
            " 2.727 |   13.92287\n",
            " 2.788 |   14.91705\n",
            " 2.848 |   15.94552\n",
            " 2.909 |   17.00826\n",
            " 2.970 |   18.10530\n",
            " 3.030 |   19.23661\n",
            " 3.091 |   20.40220\n",
            " 3.152 |   21.60208\n",
            " 3.212 |   22.83624\n",
            " 3.273 |   24.10468\n",
            " 3.333 |   25.40741\n",
            " 3.394 |   26.74441\n",
            " 3.455 |   28.11570\n",
            " 3.515 |   29.52127\n",
            " 3.576 |   30.96113\n",
            " 3.636 |   32.43526\n",
            " 3.697 |   33.94368\n",
            " 3.758 |   35.48638\n",
            " 3.818 |   37.06336\n",
            " 3.879 |   38.67463\n",
            " 3.939 |   40.32017\n",
            " 4.000 |   42.00000\n",
            "Weight Values=[-2.         -1.93939394 -1.87878788 -1.81818182 -1.75757576 -1.6969697\n",
            " -1.63636364 -1.57575758 -1.51515152 -1.45454545 -1.39393939 -1.33333333\n",
            " -1.27272727 -1.21212121 -1.15151515 -1.09090909 -1.03030303 -0.96969697\n",
            " -0.90909091 -0.84848485 -0.78787879 -0.72727273 -0.66666667 -0.60606061\n",
            " -0.54545455 -0.48484848 -0.42424242 -0.36363636 -0.3030303  -0.24242424\n",
            " -0.18181818 -0.12121212 -0.06060606  0.          0.06060606  0.12121212\n",
            "  0.18181818  0.24242424  0.3030303   0.36363636  0.42424242  0.48484848\n",
            "  0.54545455  0.60606061  0.66666667  0.72727273  0.78787879  0.84848485\n",
            "  0.90909091  0.96969697  1.03030303  1.09090909  1.15151515  1.21212121\n",
            "  1.27272727  1.33333333  1.39393939  1.45454545  1.51515152  1.57575758\n",
            "  1.63636364  1.6969697   1.75757576  1.81818182  1.87878788  1.93939394\n",
            "  2.          2.06060606  2.12121212  2.18181818  2.24242424  2.3030303\n",
            "  2.36363636  2.42424242  2.48484848  2.54545455  2.60606061  2.66666667\n",
            "  2.72727273  2.78787879  2.84848485  2.90909091  2.96969697  3.03030303\n",
            "  3.09090909  3.15151515  3.21212121  3.27272727  3.33333333  3.39393939\n",
            "  3.45454545  3.51515152  3.57575758  3.63636364  3.6969697   3.75757576\n",
            "  3.81818182  3.87878788  3.93939394  4.        ] \n",
            "Cost Values= [<tf.Tensor: shape=(), dtype=float64, numpy=42.0>, <tf.Tensor: shape=(), dtype=float64, numpy=40.3201714110805>, <tf.Tensor: shape=(), dtype=float64, numpy=38.674625038261404>, <tf.Tensor: shape=(), dtype=float64, numpy=37.06336088154269>, <tf.Tensor: shape=(), dtype=float64, numpy=35.4863789409244>, <tf.Tensor: shape=(), dtype=float64, numpy=33.94367921640649>, <tf.Tensor: shape=(), dtype=float64, numpy=32.43526170798898>, <tf.Tensor: shape=(), dtype=float64, numpy=30.961126415671867>, <tf.Tensor: shape=(), dtype=float64, numpy=29.52127333945516>, <tf.Tensor: shape=(), dtype=float64, numpy=28.115702479338847>, <tf.Tensor: shape=(), dtype=float64, numpy=26.744413835322927>, <tf.Tensor: shape=(), dtype=float64, numpy=25.407407407407405>, <tf.Tensor: shape=(), dtype=float64, numpy=24.104683195592287>, <tf.Tensor: shape=(), dtype=float64, numpy=22.836241199877566>, <tf.Tensor: shape=(), dtype=float64, numpy=21.602081420263232>, <tf.Tensor: shape=(), dtype=float64, numpy=20.40220385674931>, <tf.Tensor: shape=(), dtype=float64, numpy=19.23660850933578>, <tf.Tensor: shape=(), dtype=float64, numpy=18.10529537802265>, <tf.Tensor: shape=(), dtype=float64, numpy=17.00826446280992>, <tf.Tensor: shape=(), dtype=float64, numpy=15.94551576369758>, <tf.Tensor: shape=(), dtype=float64, numpy=14.91704928068564>, <tf.Tensor: shape=(), dtype=float64, numpy=13.922865013774105>, <tf.Tensor: shape=(), dtype=float64, numpy=12.962962962962962>, <tf.Tensor: shape=(), dtype=float64, numpy=12.037343128252218>, <tf.Tensor: shape=(), dtype=float64, numpy=11.146005509641874>, <tf.Tensor: shape=(), dtype=float64, numpy=10.288950107131926>, <tf.Tensor: shape=(), dtype=float64, numpy=9.466176920722377>, <tf.Tensor: shape=(), dtype=float64, numpy=8.677685950413222>, <tf.Tensor: shape=(), dtype=float64, numpy=7.923477196204469>, <tf.Tensor: shape=(), dtype=float64, numpy=7.203550658096113>, <tf.Tensor: shape=(), dtype=float64, numpy=6.517906336088153>, <tf.Tensor: shape=(), dtype=float64, numpy=5.866544230180593>, <tf.Tensor: shape=(), dtype=float64, numpy=5.249464340373431>, <tf.Tensor: shape=(), dtype=float64, numpy=4.666666666666667>, <tf.Tensor: shape=(), dtype=float64, numpy=4.118151209060301>, <tf.Tensor: shape=(), dtype=float64, numpy=3.6039179675543322>, <tf.Tensor: shape=(), dtype=float64, numpy=3.123966942148762>, <tf.Tensor: shape=(), dtype=float64, numpy=2.6782981328435853>, <tf.Tensor: shape=(), dtype=float64, numpy=2.266911539638811>, <tf.Tensor: shape=(), dtype=float64, numpy=1.8898071625344344>, <tf.Tensor: shape=(), dtype=float64, numpy=1.5469850015304558>, <tf.Tensor: shape=(), dtype=float64, numpy=1.2384450566268748>, <tf.Tensor: shape=(), dtype=float64, numpy=0.9641873278236917>, <tf.Tensor: shape=(), dtype=float64, numpy=0.7242118151209064>, <tf.Tensor: shape=(), dtype=float64, numpy=0.5185185185185176>, <tf.Tensor: shape=(), dtype=float64, numpy=0.34710743801652827>, <tf.Tensor: shape=(), dtype=float64, numpy=0.20997857361493688>, <tf.Tensor: shape=(), dtype=float64, numpy=0.10713192531374331>, <tf.Tensor: shape=(), dtype=float64, numpy=0.03856749311294758>, <tf.Tensor: shape=(), dtype=float64, numpy=0.004285277012549732>, <tf.Tensor: shape=(), dtype=float64, numpy=0.004285277012549732>, <tf.Tensor: shape=(), dtype=float64, numpy=0.03856749311294758>, <tf.Tensor: shape=(), dtype=float64, numpy=0.10713192531374331>, <tf.Tensor: shape=(), dtype=float64, numpy=0.20997857361493777>, <tf.Tensor: shape=(), dtype=float64, numpy=0.3471074380165294>, <tf.Tensor: shape=(), dtype=float64, numpy=0.5185185185185187>, <tf.Tensor: shape=(), dtype=float64, numpy=0.7242118151209059>, <tf.Tensor: shape=(), dtype=float64, numpy=0.9641873278236912>, <tf.Tensor: shape=(), dtype=float64, numpy=1.2384450566268743>, <tf.Tensor: shape=(), dtype=float64, numpy=1.5469850015304552>, <tf.Tensor: shape=(), dtype=float64, numpy=1.889807162534437>, <tf.Tensor: shape=(), dtype=float64, numpy=2.266911539638814>, <tf.Tensor: shape=(), dtype=float64, numpy=2.678298132843589>, <tf.Tensor: shape=(), dtype=float64, numpy=3.123966942148762>, <tf.Tensor: shape=(), dtype=float64, numpy=3.6039179675543322>, <tf.Tensor: shape=(), dtype=float64, numpy=4.118151209060301>, <tf.Tensor: shape=(), dtype=float64, numpy=4.666666666666667>, <tf.Tensor: shape=(), dtype=float64, numpy=5.249464340373431>, <tf.Tensor: shape=(), dtype=float64, numpy=5.866544230180593>, <tf.Tensor: shape=(), dtype=float64, numpy=6.517906336088153>, <tf.Tensor: shape=(), dtype=float64, numpy=7.20355065809611>, <tf.Tensor: shape=(), dtype=float64, numpy=7.923477196204466>, <tf.Tensor: shape=(), dtype=float64, numpy=8.67768595041322>, <tf.Tensor: shape=(), dtype=float64, numpy=9.466176920722383>, <tf.Tensor: shape=(), dtype=float64, numpy=10.288950107131932>, <tf.Tensor: shape=(), dtype=float64, numpy=11.14600550964188>, <tf.Tensor: shape=(), dtype=float64, numpy=12.037343128252225>, <tf.Tensor: shape=(), dtype=float64, numpy=12.962962962962964>, <tf.Tensor: shape=(), dtype=float64, numpy=13.922865013774112>, <tf.Tensor: shape=(), dtype=float64, numpy=14.917049280685644>, <tf.Tensor: shape=(), dtype=float64, numpy=15.945515763697587>, <tf.Tensor: shape=(), dtype=float64, numpy=17.008264462809915>, <tf.Tensor: shape=(), dtype=float64, numpy=18.105295378022657>, <tf.Tensor: shape=(), dtype=float64, numpy=19.236608509335777>, <tf.Tensor: shape=(), dtype=float64, numpy=20.402203856749313>, <tf.Tensor: shape=(), dtype=float64, numpy=21.602081420263232>, <tf.Tensor: shape=(), dtype=float64, numpy=22.836241199877566>, <tf.Tensor: shape=(), dtype=float64, numpy=24.104683195592276>, <tf.Tensor: shape=(), dtype=float64, numpy=25.40740740740742>, <tf.Tensor: shape=(), dtype=float64, numpy=26.744413835322934>, <tf.Tensor: shape=(), dtype=float64, numpy=28.115702479338854>, <tf.Tensor: shape=(), dtype=float64, numpy=29.521273339455167>, <tf.Tensor: shape=(), dtype=float64, numpy=30.96112641567188>, <tf.Tensor: shape=(), dtype=float64, numpy=32.43526170798899>, <tf.Tensor: shape=(), dtype=float64, numpy=33.9436792164065>, <tf.Tensor: shape=(), dtype=float64, numpy=35.4863789409244>, <tf.Tensor: shape=(), dtype=float64, numpy=37.0633608815427>, <tf.Tensor: shape=(), dtype=float64, numpy=38.674625038261404>, <tf.Tensor: shape=(), dtype=float64, numpy=40.3201714110805>, <tf.Tensor: shape=(), dtype=float64, numpy=42.0>]\n"
          ]
        }
      ]
    },
    {
      "cell_type": "markdown",
      "source": [
        "## cost function 그래프\n",
        "\n",
        "# 실습과제\n",
        "\n",
        " 입력 데이터 5개를 사용한 cost 함수 그래프 작성\n",
        " 화면 캡처로 제출"
      ],
      "metadata": {
        "id": "YJhDg9Nn88df"
      }
    },
    {
      "cell_type": "code",
      "source": [
        "import matplotlib.pyplot as plt\n",
        "plt.rcParams[\"figure.figsize\"] = (8,6)\n",
        "\n",
        "plt.plot(W_values, cost_values, \"b\")\n",
        "plt.ylabel('Cost(W)')\n",
        "plt.xlabel('W')\n",
        "plt.show()"
      ],
      "metadata": {
        "colab": {
          "base_uri": "https://localhost:8080/",
          "height": 542
        },
        "id": "EFc9Mg3CCdRW",
        "outputId": "5af8f8e6-21d4-4701-d0f5-e09960cdcdb1"
      },
      "execution_count": 6,
      "outputs": [
        {
          "output_type": "display_data",
          "data": {
            "text/plain": [
              "<Figure size 800x600 with 1 Axes>"
            ],
            "image/png": "[encoded data removed]"
          },
          "metadata": {}
        }
      ]
    },
    {
      "cell_type": "markdown",
      "source": [],
      "metadata": {
        "id": "rGvHU36E10oM"
      }
    },
    {
      "cell_type": "markdown",
      "source": [
        "## Gradient Descent Algorithm"
      ],
      "metadata": {
        "id": "7e35lirABNlq"
      }
    },
    {
      "cell_type": "code",
      "source": [
        "import tensorflow as tf\n",
        "\n",
        "#X = [10., 9., 3., 2.]\n",
        "#Y = [90., 80.,50., 60.]\n",
        "\n",
        "X = [1., 2., 3., 4., 5.]\n",
        "Y = [10., 20.,30., 40., 60.]\n",
        "\n",
        "W = tf.Variable(tf.random.normal((1,), -10., 10.))\n",
        "\n",
        "print(\"W = \", W)\n",
        "\n",
        "for step in range(200):\n",
        "    hypothesis = W * X\n",
        "    cost = tf.reduce_mean(tf.square(hypothesis - Y))\n",
        "\n",
        "    alpha = 0.01\n",
        "\n",
        "    gradient = tf.reduce_mean(tf.multiply(tf.multiply(W, X) - Y, X))\n",
        "    descent = W - tf.multiply(alpha, gradient)\n",
        "    W.assign(descent)\n",
        "\n",
        "    if step % 10 == 0:\n",
        "      print('{:5} | {:10.4f} | {:10.6f}'.format(\n",
        "            step, cost.numpy(), W.numpy()[0]))\n",
        ""
      ],
      "metadata": {
        "colab": {
          "base_uri": "https://localhost:8080/"
        },
        "id": "7vuhKNfbCCVx",
        "outputId": "d8f11c03-8c36-4581-e455-cc091c06cd9c"
      },
      "execution_count": 10,
      "outputs": [
        {
          "output_type": "stream",
          "name": "stdout",
          "text": [
            "W =  <tf.Variable 'Variable:0' shape=(1,) dtype=float32, numpy=array([-5.487136], dtype=float32)>\n",
            "    0 |  2968.1079 |  -3.683551\n",
            "   10 |   298.4374 |   6.358854\n",
            "   20 |    38.8654 |   9.490250\n",
            "   30 |    13.6273 |  10.466671\n",
            "   40 |    11.1734 |  10.771137\n",
            "   50 |    10.9348 |  10.866075\n",
            "   60 |    10.9116 |  10.895678\n",
            "   70 |    10.9093 |  10.904908\n",
            "   80 |    10.9091 |  10.907785\n",
            "   90 |    10.9091 |  10.908684\n",
            "  100 |    10.9091 |  10.908963\n",
            "  110 |    10.9091 |  10.909051\n",
            "  120 |    10.9091 |  10.909080\n",
            "  130 |    10.9091 |  10.909087\n",
            "  140 |    10.9091 |  10.909087\n",
            "  150 |    10.9091 |  10.909087\n",
            "  160 |    10.9091 |  10.909087\n",
            "  170 |    10.9091 |  10.909087\n",
            "  180 |    10.9091 |  10.909087\n",
            "  190 |    10.9091 |  10.909087\n"
          ]
        }
      ]
    },
    {
      "cell_type": "markdown",
      "source": [
        "## Gradient Descent Algorithm을 사용한 미래 값 예측"
      ],
      "metadata": {
        "id": "7cZhQx5XB7LM"
      }
    },
    {
      "cell_type": "code",
      "source": [
        "# predict\n",
        "\n",
        "print(\"W = \", W)\n",
        "print(\"W numpy = \", W.numpy()[0])\n",
        "x = [6.]\n",
        "H = W*x\n",
        "\n",
        "print(\"H = \", H.numpy()[0])\n",
        "\n",
        "\n"
      ],
      "metadata": {
        "colab": {
          "base_uri": "https://localhost:8080/"
        },
        "id": "gBdmR-rKetAp",
        "outputId": "545243f9-4e2a-4967-9987-369a002f2e3a"
      },
      "execution_count": 11,
      "outputs": [
        {
          "output_type": "stream",
          "name": "stdout",
          "text": [
            "W =  <tf.Variable 'Variable:0' shape=(1,) dtype=float32, numpy=array([10.909087], dtype=float32)>\n",
            "W numpy =  10.909087\n",
            "H =  65.45452\n"
          ]
        }
      ]
    },
    {
      "cell_type": "code",
      "source": [
        "X = [1., 2., 3., 4.]\n",
        "Y = [1., 3., 5., 7.]\n",
        "\n",
        "W = tf.Variable([5.0])\n",
        "\n",
        "for step in range(300):\n",
        "    hypothesis = W * X\n",
        "    cost = tf.reduce_mean(tf.square(hypothesis - Y))\n",
        "\n",
        "    alpha = 0.01\n",
        "    gradient = tf.reduce_mean(tf.multiply(tf.multiply(W, X) - Y, X))\n",
        "    descent = W - tf.multiply(alpha, gradient)\n",
        "    W.assign(descent)\n",
        "\n",
        "    if step % 10 == 0:\n",
        "        print('{:5} | {:10.4f} | {:10.6f}'.format(\n",
        "            step, cost.numpy(), W.numpy()[0]))\n",
        ""
      ],
      "metadata": {
        "colab": {
          "base_uri": "https://localhost:8080/"
        },
        "id": "X7pvEhr4M3S1",
        "outputId": "3f0c4d8b-308c-4ec1-803e-4254efa7b360"
      },
      "execution_count": 12,
      "outputs": [
        {
          "output_type": "stream",
          "name": "stdout",
          "text": [
            "    0 |    83.5000 |   4.750000\n",
            "   10 |    17.6915 |   3.080629\n",
            "   20 |     3.8521 |   2.315085\n",
            "   30 |     0.9417 |   1.964020\n",
            "   40 |     0.3297 |   1.803027\n",
            "   50 |     0.2009 |   1.729199\n",
            "   60 |     0.1739 |   1.695343\n",
            "   70 |     0.1682 |   1.679817\n",
            "   80 |     0.1670 |   1.672697\n",
            "   90 |     0.1667 |   1.669432\n",
            "  100 |     0.1667 |   1.667935\n",
            "  110 |     0.1667 |   1.667248\n",
            "  120 |     0.1667 |   1.666933\n",
            "  130 |     0.1667 |   1.666789\n",
            "  140 |     0.1667 |   1.666723\n",
            "  150 |     0.1667 |   1.666692\n",
            "  160 |     0.1667 |   1.666678\n",
            "  170 |     0.1667 |   1.666672\n",
            "  180 |     0.1667 |   1.666669\n",
            "  190 |     0.1667 |   1.666668\n",
            "  200 |     0.1667 |   1.666667\n",
            "  210 |     0.1667 |   1.666667\n",
            "  220 |     0.1667 |   1.666667\n",
            "  230 |     0.1667 |   1.666667\n",
            "  240 |     0.1667 |   1.666667\n",
            "  250 |     0.1667 |   1.666667\n",
            "  260 |     0.1667 |   1.666667\n",
            "  270 |     0.1667 |   1.666667\n",
            "  280 |     0.1667 |   1.666667\n",
            "  290 |     0.1667 |   1.666667\n"
          ]
        }
      ]
    }
  ]
}