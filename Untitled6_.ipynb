{
  "nbformat": 4,
  "nbformat_minor": 0,
  "metadata": {
    "colab": {
      "private_outputs": true,
      "provenance": []
    },
    "kernelspec": {
      "name": "python3",
      "display_name": "Python 3"
    },
    "language_info": {
      "name": "python"
    },
    "accelerator": "TPU"
  },
  "cells": [
    {
      "cell_type": "code",
      "execution_count": null,
      "metadata": {
        "id": "MR-kcrqQ0M8A"
      },
      "outputs": [],
      "source": [
        "import tensorflow as tf\n",
        "import pandas as pd\n",
        "import numpy as np\n",
        "import matplotlib.pyplot as plt\n",
        "\n",
        "!pip install yfinance\n",
        "import yfinance as yf"
      ]
    },
    {
      "cell_type": "code",
      "source": [
        "df=yf.download(\"373220.KS\",start=\"2023-10-13\",end=\"2023-10-25\")\n",
        "print(df)"
      ],
      "metadata": {
        "id": "KnwQSBcs1j6p"
      },
      "execution_count": null,
      "outputs": []
    },
    {
      "cell_type": "code",
      "source": [
        "# convert dataframe to numpy\n",
        "numpyData =df.values\n",
        "numpyData"
      ],
      "metadata": {
        "id": "pBxDneKu1j8v"
      },
      "execution_count": null,
      "outputs": []
    },
    {
      "cell_type": "code",
      "source": [
        "numpyDataShape = np.shape(numpyData)\n",
        "numpyDataShape"
      ],
      "metadata": {
        "id": "cOF-eniy1j_A"
      },
      "execution_count": null,
      "outputs": []
    },
    {
      "cell_type": "code",
      "source": [
        "numpyDataShape = numpyData.shape\n",
        "numpyDataShape"
      ],
      "metadata": {
        "id": "w7TWh7xV1kBW"
      },
      "execution_count": null,
      "outputs": []
    },
    {
      "cell_type": "code",
      "source": [
        "# only close value\n",
        "closeValue = numpyData[:,3:4]\n",
        "print(\" Close value(종가) = \\n\", closeValue)"
      ],
      "metadata": {
        "id": "qKOmkxG01kDb"
      },
      "execution_count": null,
      "outputs": []
    },
    {
      "cell_type": "code",
      "source": [
        "fig, (ax1) = plt.subplots(1, figsize=(15,5))\n",
        "df.Close.plot(ax=ax1)\n",
        "ax1.set(title = ' LG engery solution time series',\n",
        "          ylabel = 'Stock price')\n"
      ],
      "metadata": {
        "id": "jDJ4HRVk1kFk"
      },
      "execution_count": null,
      "outputs": []
    },
    {
      "cell_type": "code",
      "source": [
        "fig, (ax1,ax2,ax3) = plt.subplots(3, figsize=(20,15))\n",
        "df.Close.plot(ax=ax1)\n",
        "ax1.set(title = ' LG engery solution time series',\n",
        "          ylabel = 'Stock price')\n",
        "\n",
        "df.Volume.plot(ax=ax2)\n",
        "ax2.set( ylabel = 'Volume')\n",
        "\n",
        "xval=np.arange(8)\n",
        "ax3.scatter(xval, closeValue)"
      ],
      "metadata": {
        "id": "tlmfnh3W1kHq"
      },
      "execution_count": null,
      "outputs": []
    },
    {
      "cell_type": "code",
      "source": [
        "x_data = np.arange(len(closeValue))   # len(closeValue) = 8\n",
        "y_data = closeValue\n",
        "print(\"x_data = \", x_data)\n",
        "print(\"y_data = \", y_data)"
      ],
      "metadata": {
        "id": "eGvRmNUk1kJy"
      },
      "execution_count": null,
      "outputs": []
    },
    {
      "cell_type": "code",
      "source": [
        "x_data = np.arange(len(closeValue))\n",
        "x_data = (x_data+1).tolist()\n",
        "y_data = closeValue.ravel()\n",
        "y_data = (y_data/500000.).tolist()  # 정규화\n",
        "print(\"x_data = \", x_data)\n",
        "print(\"y_data = \", y_data)"
      ],
      "metadata": {
        "id": "mxgP-65L1kL6"
      },
      "execution_count": null,
      "outputs": []
    },
    {
      "cell_type": "code",
      "source": [
        "import tensorflow as tf\n",
        "import numpy as np\n",
        "import matplotlib.pyplot as plt  # 그래프 그리기\n",
        "\n",
        "\n",
        "print(\" Tensor flow version = \", tf.__version__)\n",
        "\n",
        "\n",
        "learning_rate = 0.001 # 학습률\n",
        "\n",
        "W = tf.Variable(1.0)\n",
        "b = tf.Variable(0.5)\n",
        "\n",
        "x_axis_loop = []\n",
        "y_axis_cost = []\n",
        "\n",
        "\n",
        "for i in range(20000+1):\n",
        "    with tf.GradientTape() as tape:\n",
        "        hypothesis = W * x_data + b\n",
        "        cost = tf.reduce_mean(tf.square(hypothesis - y_data))\n",
        "    W_grad, b_grad = tape.gradient(cost, [W, b])\n",
        "    W.assign_sub(learning_rate * W_grad)  # 다음 W = 현재 W - learning_rate*W_grad\n",
        "    b.assign_sub(learning_rate * b_grad)\n",
        "\n",
        "    if ( i > 500):\n",
        "      x_axis_loop.append(i)\n",
        "      y_axis_cost.append(cost)\n",
        "\n",
        "    if i % 1000 == 0:\n",
        "      print(\"{:5}|{:10.4f}|{:10.4f}| cost = {:10.6f}\".format(i, W.numpy(), b.numpy(), cost))\n",
        "\n"
      ],
      "metadata": {
        "id": "gbN6Lbbf1kN6"
      },
      "execution_count": null,
      "outputs": []
    },
    {
      "cell_type": "code",
      "source": [
        "# cost 함수 그래프 그리기\n",
        "\n",
        "plt.plot(x_axis_loop, y_axis_cost, 'r-', label='cost')\n",
        "plt.legend()\n",
        "plt.xlabel('x')\n",
        "plt.show()\n",
        "\n",
        "plt.plot(x_data, y_data, 'o')\n",
        "plt.plot(x_data, hypothesis, 'r--')\n",
        "plt.ylim(0.0, 2.0)\n",
        "plt.show()\n"
      ],
      "metadata": {
        "id": "eGkHM83E1kP5"
      },
      "execution_count": null,
      "outputs": []
    },
    {
      "cell_type": "code",
      "source": [
        "x_pred = [9]  #\n",
        "# hypothesis = W * x_data + b\n",
        "hypothesis = W * x_pred + b\n",
        "\n",
        "print(\" 예측 주가 = \", hypothesis)\n",
        "price = hypothesis.numpy()[0]*500000.\n",
        "print(\" 예측 주가 = \", price)"
      ],
      "metadata": {
        "id": "qQexgy-91kTc"
      },
      "execution_count": null,
      "outputs": []
    },
    {
      "cell_type": "code",
      "source": [
        "df=yf.download(\"373220.KS\",start=\"2023-10-13\",end=\"2023-10-25\")\n",
        "print(df)  # 데이터 확인"
      ],
      "metadata": {
        "id": "k_JZ3NPQ1kZG"
      },
      "execution_count": null,
      "outputs": []
    },
    {
      "cell_type": "code",
      "source": [
        "print(df.columns)\n",
        "print(df.index)"
      ],
      "metadata": {
        "id": "9jg1fFtG1kbj"
      },
      "execution_count": null,
      "outputs": []
    },
    {
      "cell_type": "code",
      "source": [
        "print(df.Open)"
      ],
      "metadata": {
        "id": "GD9kL8rL2iC2"
      },
      "execution_count": null,
      "outputs": []
    },
    {
      "cell_type": "code",
      "source": [
        "print(df['Open'])"
      ],
      "metadata": {
        "id": "VU6mvHTD2i6y"
      },
      "execution_count": null,
      "outputs": []
    },
    {
      "cell_type": "code",
      "source": [
        "print(df[['Open','High','Close']])"
      ],
      "metadata": {
        "id": "tWAkYa5w2j5t"
      },
      "execution_count": null,
      "outputs": []
    },
    {
      "cell_type": "code",
      "source": [
        "print(df.loc['2023-10-13'])"
      ],
      "metadata": {
        "id": "j41FXaHj2k5-"
      },
      "execution_count": null,
      "outputs": []
    },
    {
      "cell_type": "code",
      "source": [
        "print(df.iloc[0])"
      ],
      "metadata": {
        "id": "EHrO1UBD2l0j"
      },
      "execution_count": null,
      "outputs": []
    },
    {
      "cell_type": "code",
      "source": [
        "print(df.iloc[:,1])  # high value"
      ],
      "metadata": {
        "id": "oCPfpQQm2mrO"
      },
      "execution_count": null,
      "outputs": []
    },
    {
      "cell_type": "code",
      "source": [
        "print(df.iloc[:,2])  # close value"
      ],
      "metadata": {
        "id": "ifB2heCj2nu6"
      },
      "execution_count": null,
      "outputs": []
    },
    {
      "cell_type": "code",
      "source": [
        "print(df.iloc[-1,:])   # 2023-10-24 데이터"
      ],
      "metadata": {
        "id": "dLjKA9QM2omq"
      },
      "execution_count": null,
      "outputs": []
    },
    {
      "cell_type": "code",
      "source": [
        "x1 = df.iloc[0:4,0].values.tolist()\n",
        "print(\"Open value : x1 = \", x1)\n",
        "x2 = df.iloc[0:4,1].values.tolist()\n",
        "print(\"High value : x2 = \", x2)\n",
        "x3 = df.iloc[0:4,2].values.tolist()\n",
        "print(\"Low  value : x3 = \", x3)\n"
      ],
      "metadata": {
        "id": "SwOtpZyo2pel"
      },
      "execution_count": null,
      "outputs": []
    },
    {
      "cell_type": "code",
      "source": [
        "x1 = df.iloc[0:4,0].ravel()\n",
        "x1 = (x1/500000.).tolist()\n",
        "print(\"Open value : x1 = \", x1)\n",
        "x2 = df.iloc[0:4,1].ravel()\n",
        "x2 = (x2/500000.).tolist()\n",
        "print(\"High value : x2 = \", x2)\n",
        "x3 = df.iloc[0:4,2].ravel()\n",
        "x3 = (x3/500000.).tolist()\n",
        "print(\"Low  value : x3 = \", x3)"
      ],
      "metadata": {
        "id": "MWXhYD9K2qoO"
      },
      "execution_count": null,
      "outputs": []
    },
    {
      "cell_type": "code",
      "source": [
        "y_data = df.iloc[0:4,3].ravel()\n",
        "y_data = (y_data/500000.).tolist()\n",
        "Y = y_data\n",
        "print(\"Close value : Y = \", Y)"
      ],
      "metadata": {
        "id": "56v_Oa5c2r4V"
      },
      "execution_count": null,
      "outputs": []
    },
    {
      "cell_type": "code",
      "source": [
        "# @title 출석 과제\n",
        "##### 출석 과제"
      ],
      "metadata": {
        "id": "vNI5fxCe4TKE"
      },
      "execution_count": null,
      "outputs": []
    },
    {
      "cell_type": "code",
      "source": [
        "\n",
        "x1 = [0.98, 0.959, 0.959, 0.943]\n",
        "x2 = [0.98, 0.963, 0.965, 0.945]\n",
        "x3 = [0.96, 0.943, 0.948, 0.924]\n",
        "Y =  [0.968, 0.948, 0.95, 0.93]\n",
        "\n",
        "# parameter : random weights 및 bias 설정\n",
        "w1 = tf.Variable(tf.random.normal((1,)))\n",
        "w2 = tf.Variable(tf.random.normal((1,)))\n",
        "w3 = tf.Variable(tf.random.normal((1,)))\n",
        "b  = tf.Variable(tf.random.normal((1,)))\n",
        "\n",
        "x_axis_loop = []\n",
        "y_axis_cost = []\n",
        "\n",
        "learning_rate = 0.001\n",
        "\n",
        "for i in range(100000+1):\n",
        "    # tf.GradientTape() to record the gradient of the cost function\n",
        "    with tf.GradientTape() as tape:\n",
        "        hypothesis = w1 * x1 +  w2 * x2 + w3 * x3 + b\n",
        "        cost = tf.reduce_mean(tf.square(hypothesis - Y))\n",
        "    # calculates the gradients of the cost\n",
        "    w1_grad, w2_grad, w3_grad, b_grad = tape.gradient(cost, [w1, w2, w3, b])\n",
        "\n",
        "    # update w1,w2,w3 and b\n",
        "    w1.assign_sub(learning_rate * w1_grad)\n",
        "    w2.assign_sub(learning_rate * w2_grad)\n",
        "    w3.assign_sub(learning_rate * w3_grad)\n",
        "    b.assign_sub(learning_rate * b_grad)\n",
        "\n",
        "    if ( i > 500):\n",
        "      x_axis_loop.append(i)\n",
        "      y_axis_cost.append(cost)\n",
        "\n",
        "    if i % 1000 == 0:\n",
        "      print(\"loop = {:5} | cost = {:12.4f}\".format(i, cost.numpy()))"
      ],
      "metadata": {
        "id": "VSxLdxSD2snm"
      },
      "execution_count": null,
      "outputs": []
    },
    {
      "cell_type": "code",
      "source": [
        "x = x1 + x2 + x3\n",
        "\n",
        "x_data = np.arange(len(x))\n",
        "x_data = (x_data+1).tolist()\n",
        "y_data = closeValue.ravel()\n",
        "y_data = (y_data/500000.).tolist()  # 정규화\n",
        "# hypothesis = W * x_data + b\n",
        "print(\"x_data = \", x_data)\n",
        "print(\"y_data = \", y_data)\n",
        "\n",
        "# cost 함수 그래프 그리기\n",
        "\n",
        "plt.plot(x_axis_loop, y_axis_cost, 'r-', label='cost')\n",
        "plt.legend()\n",
        "plt.xlabel('x')\n",
        "plt.show()\n"
      ],
      "metadata": {
        "id": "EilBeCJP4F4e"
      },
      "execution_count": null,
      "outputs": []
    },
    {
      "cell_type": "code",
      "source": [
        "data = np.array([\n",
        "    # X1,   X2,    X3,   Y\n",
        "    [ 73.,  80.,  75., 152. ],\n",
        "    [ 93.,  88.,  93., 185. ],\n",
        "    [ 89.,  91.,  90., 180. ],\n",
        "    [ 96.,  98., 100., 196. ],\n",
        "    [ 73.,  66.,  70., 142. ]\n",
        "], dtype=np.float32)\n",
        "\n",
        "# slice data\n",
        "X = data[:, :-1]\n",
        "Y = data[:, [-1]]\n",
        "\n",
        "print(\"X = \", X)\n",
        "print(\"Y = \", Y)\n",
        "\n",
        "W = tf.Variable(tf.random.normal((3, 1)))\n",
        "b = tf.Variable(tf.random.normal((1,)))\n",
        "\n",
        "print(\"W = \", W)\n",
        "print(\"b = \", b)\n",
        "\n",
        "learning_rate = 0.000001\n",
        "\n",
        "# hypothesis, prediction function\n",
        "def predict(X):\n",
        "    return tf.matmul(X, W) + b\n",
        "\n",
        "print(\"epoch | cost\")\n",
        "\n",
        "n_epochs = 500\n",
        "for i in range(n_epochs+1):\n",
        "    with tf.GradientTape() as tape:\n",
        "        cost = tf.reduce_mean((tf.square(predict(X) - Y)))\n",
        "\n",
        "    W_grad, b_grad = tape.gradient(cost, [W, b])\n",
        "\n",
        "    W.assign_sub(learning_rate * W_grad)\n",
        "    b.assign_sub(learning_rate * b_grad)\n",
        "\n",
        "    if i % 100 == 0:\n",
        "        print(\"{:5} | {:10.4f}\".format(i, cost.numpy()))"
      ],
      "metadata": {
        "id": "SSJCeXU72tdO"
      },
      "execution_count": null,
      "outputs": []
    },
    {
      "cell_type": "code",
      "source": [
        "# @title 실습 과제\n",
        "##### 실습  과제\n",
        "x1 = [0.98, 0.959, 0.959, 0.943]\n",
        "x2 = [0.98, 0.963, 0.965, 0.945]\n",
        "x3 = [0.96, 0.943, 0.948, 0.924]\n",
        "Y =  [0.968, 0.948, 0.95, 0.93]"
      ],
      "metadata": {
        "id": "47ERZuMM4RP6"
      },
      "execution_count": null,
      "outputs": []
    },
    {
      "cell_type": "code",
      "source": [
        "data = np.array([\n",
        "    # X1,   X2,    X3,   Y\n",
        "    [0.98,  0.98,  0.96, 0.968],\n",
        "    [0.959,  0.963,  0.943, 0.948],\n",
        "    [0.959,  0.965,  0.948, 0.95],\n",
        "    [0.943,  0.945, 0.95, 0.93]\n",
        "], dtype=np.float32)\n",
        "\n",
        "# slice data\n",
        "X = data[:, :-1]\n",
        "Y = data[:, [-1]]\n",
        "\n",
        "print(\"X = \", X)\n",
        "print(\"Y = \", Y)\n",
        "\n",
        "W = tf.Variable(tf.random.normal((3, 1)))\n",
        "b = tf.Variable(tf.random.normal((1,)))\n",
        "\n",
        "print(\"W = \", W)\n",
        "print(\"b = \", b)\n",
        "\n",
        "learning_rate = 0.000001\n",
        "\n",
        "# hypothesis, prediction function\n",
        "def predict(X):\n",
        "    return tf.matmul(X, W) + b\n",
        "\n",
        "print(\"epoch | cost\")\n",
        "\n",
        "n_epochs = 500\n",
        "for i in range(n_epochs+1):\n",
        "    with tf.GradientTape() as tape:\n",
        "        cost = tf.reduce_mean((tf.square(predict(X) - Y)))\n",
        "\n",
        "    W_grad, b_grad = tape.gradient(cost, [W, b])\n",
        "\n",
        "    W.assign_sub(learning_rate * W_grad)\n",
        "    b.assign_sub(learning_rate * b_grad)\n",
        "\n",
        "    if i % 100 == 0:\n",
        "        print(\"{:5} | {:10.4f}\".format(i, cost.numpy()))"
      ],
      "metadata": {
        "id": "DTn_2cJD94K8"
      },
      "execution_count": null,
      "outputs": []
    },
    {
      "cell_type": "code",
      "source": [],
      "metadata": {
        "id": "vD_FEE3jDtgQ"
      },
      "execution_count": null,
      "outputs": []
    }
  ]
}