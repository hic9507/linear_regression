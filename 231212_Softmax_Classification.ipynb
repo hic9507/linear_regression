{
 "cells": [
  {
   "cell_type": "markdown",
   "id": "01e9675a",
   "metadata": {},
   "source": [
    "## Softmax_Classification"
   ]
  },
  {
   "cell_type": "code",
   "execution_count": 1,
   "id": "b7017749",
   "metadata": {},
   "outputs": [
    {
     "name": "stdout",
     "output_type": "stream",
     "text": [
      "2.9.1\n"
     ]
    }
   ],
   "source": [
    "import tensorflow as tf\n",
    "import pandas as pd\n",
    "import numpy as np\n",
    "import matplotlib.pyplot as plt\n",
    "\n",
    "print(tf.__version__)\n"
   ]
  },
  {
   "cell_type": "markdown",
   "id": "f9061521",
   "metadata": {},
   "source": [
    "## 데이터 생성"
   ]
  },
  {
   "cell_type": "code",
   "execution_count": 2,
   "id": "8af64c1c",
   "metadata": {},
   "outputs": [
    {
     "name": "stdout",
     "output_type": "stream",
     "text": [
      "x_data:  [[1, 2, 1, 1, 1], [2, 1, 3, 2, 2], [3, 1, 3, 4, 3], [4, 1, 5, 5, 4], [1, 7, 5, 5, 5], [1, 2, 5, 6, 6], [1, 6, 6, 6, 7], [1, 7, 7, 7, 8], [5, 6, 7, 8, 9], [5, 6, 9, 8, 0]]\n",
      "(10, 5)\n",
      "(10, 4)\n"
     ]
    }
   ],
   "source": [
    "x_data = [[1, 2, 1, 1, 1],   # 고양이 사진 데이터\n",
    "          [2, 1, 3, 2, 2],\n",
    "          [3, 1, 3, 4, 3],\n",
    "          [4, 1, 5, 5, 4],   # 강아지 사진 데이터\n",
    "          [1, 7, 5, 5, 5],\n",
    "          [1, 2, 5, 6, 6],\n",
    "          [1, 6, 6, 6, 7],   # 토끼 사진 데이터\n",
    "          [1, 7, 7, 7, 8],\n",
    "          [5, 6, 7, 8, 9],\n",
    "          [5, 6, 9, 8, 0],\n",
    "          ]\n",
    "y_data = [[0, 0, 1, 0],\n",
    "          [0, 0, 1, 1],\n",
    "          [0, 0, 1, 0],\n",
    "          [0, 1, 0, 1],\n",
    "          [0, 1, 0, 0],\n",
    "          [0, 1, 0, 1],\n",
    "          [1, 0, 0, 1],\n",
    "          [1, 0, 0, 0],\n",
    "          [0, 0, 0, 0],\n",
    "          [0, 1, 1, 1]]\n",
    "\n",
    "print('x_data: ', x_data)\n",
    "print(np.array(x_data).shape)\n",
    "print(np.array(y_data).shape)"
   ]
  },
  {
   "cell_type": "markdown",
   "id": "db2446c8",
   "metadata": {},
   "source": [
    "## convert into numpy array data"
   ]
  },
  {
   "cell_type": "code",
   "execution_count": 3,
   "id": "bf574573",
   "metadata": {},
   "outputs": [
    {
     "data": {
      "text/plain": [
       "array([[1., 2., 1., 1., 1.],\n",
       "       [2., 1., 3., 2., 2.],\n",
       "       [3., 1., 3., 4., 3.],\n",
       "       [4., 1., 5., 5., 4.],\n",
       "       [1., 7., 5., 5., 5.],\n",
       "       [1., 2., 5., 6., 6.],\n",
       "       [1., 6., 6., 6., 7.],\n",
       "       [1., 7., 7., 7., 8.],\n",
       "       [5., 6., 7., 8., 9.],\n",
       "       [5., 6., 9., 8., 0.]], dtype=float32)"
      ]
     },
     "execution_count": 3,
     "metadata": {},
     "output_type": "execute_result"
    }
   ],
   "source": [
    "x_data = np.asarray(x_data, dtype=np.float32)\n",
    "y_data = np.asarray(y_data, dtype=np.float32)\n",
    "\n",
    "x_data"
   ]
  },
  {
   "cell_type": "code",
   "execution_count": 4,
   "id": "55b181d6",
   "metadata": {},
   "outputs": [
    {
     "data": {
      "text/plain": [
       "array([[0., 0., 1., 0.],\n",
       "       [0., 0., 1., 1.],\n",
       "       [0., 0., 1., 0.],\n",
       "       [0., 1., 0., 1.],\n",
       "       [0., 1., 0., 0.],\n",
       "       [0., 1., 0., 1.],\n",
       "       [1., 0., 0., 1.],\n",
       "       [1., 0., 0., 0.],\n",
       "       [0., 0., 0., 0.],\n",
       "       [0., 1., 1., 1.]], dtype=float32)"
      ]
     },
     "execution_count": 4,
     "metadata": {},
     "output_type": "execute_result"
    }
   ],
   "source": [
    "y_data"
   ]
  },
  {
   "cell_type": "markdown",
   "id": "12df7402",
   "metadata": {},
   "source": [
    "## class의 갯수 : 3개, one hot encoding"
   ]
  },
  {
   "cell_type": "code",
   "execution_count": 5,
   "id": "0b21e735",
   "metadata": {},
   "outputs": [
    {
     "name": "stdout",
     "output_type": "stream",
     "text": [
      "(10, 5)\n",
      "(10, 4)\n"
     ]
    }
   ],
   "source": [
    "nb_classes = 4\n",
    "\n",
    "print(x_data.shape)\n",
    "print(y_data.shape)"
   ]
  },
  {
   "cell_type": "markdown",
   "id": "ca6221d6",
   "metadata": {},
   "source": [
    "## 파라메터 정의\n",
    "#### - X -> [8,4],  W -> [4,3], b ->[1,3],  H ->[8,3]\n",
    "#### - H = XW + b\n",
    "#### - [8,4] x [4,3] = [8,3]"
   ]
  },
  {
   "cell_type": "code",
   "execution_count": 6,
   "id": "4d0b3bd7",
   "metadata": {},
   "outputs": [
    {
     "name": "stdout",
     "output_type": "stream",
     "text": [
      "weigths =  <tf.Variable 'weight:0' shape=(5, 4) dtype=float32, numpy=\n",
      "array([[ 0.18006334, -0.94108826, -0.7398555 , -0.6803209 ],\n",
      "       [-0.90064865,  0.58121324,  0.17413954,  0.00950075],\n",
      "       [ 1.2351179 , -1.070544  ,  0.22601458, -1.2572238 ],\n",
      "       [ 1.6860381 , -0.64297414,  1.647008  ,  0.13884336],\n",
      "       [-0.71869665,  1.1982931 , -0.88156235, -0.7388535 ]],\n",
      "      dtype=float32)>\n",
      "bias =  <tf.Variable 'bias:0' shape=(4,) dtype=float32, numpy=array([ 0.670836 ,  1.907686 ,  1.1868315, -1.5078208], dtype=float32)>\n"
     ]
    }
   ],
   "source": [
    "W = tf.Variable(tf.random.normal((5, nb_classes)), name='weight')\n",
    "b = tf.Variable(tf.random.normal((nb_classes,)), name='bias')\n",
    "\n",
    "print(\"weigths = \",W)\n",
    "print(\"bias = \",b)"
   ]
  },
  {
   "cell_type": "markdown",
   "id": "df603e6a",
   "metadata": {},
   "source": [
    "## hypothesis 정의"
   ]
  },
  {
   "cell_type": "code",
   "execution_count": 7,
   "id": "591e3fa5",
   "metadata": {
    "scrolled": false
   },
   "outputs": [
    {
     "name": "stdout",
     "output_type": "stream",
     "text": [
      "tf.Tensor(\n",
      "[[2.4103938e-01 3.4600189e-01 4.1172889e-01 1.2298501e-03]\n",
      " [9.7472388e-01 6.8168121e-04 2.4593225e-02 1.2081738e-06]\n",
      " [9.9214208e-01 1.4572205e-05 7.8433119e-03 2.3077757e-08]\n",
      " [9.9965799e-01 3.1485296e-08 3.4204716e-04 1.4038702e-11]\n",
      " [2.5305751e-01 1.1378458e-02 7.3556405e-01 1.0839541e-08]\n",
      " [9.8910367e-01 1.7821301e-05 1.0878563e-02 9.3177042e-11]\n",
      " [7.9632807e-01 3.6506774e-03 2.0002127e-01 2.3206474e-10]\n",
      " [8.1926817e-01 1.0908813e-03 1.7964096e-01 1.0235455e-11]\n",
      " [9.9845612e-01 2.2571928e-06 1.5416085e-03 3.3527604e-14]\n",
      " [9.9911457e-01 7.2165312e-16 8.8542269e-04 2.7494814e-16]], shape=(10, 4), dtype=float32)\n"
     ]
    }
   ],
   "source": [
    "def hypothesis(X):\n",
    "    return tf.nn.softmax(tf.matmul(X, W) + b)\n",
    "\n",
    "print(hypothesis(x_data))"
   ]
  },
  {
   "cell_type": "markdown",
   "id": "27a0cee0",
   "metadata": {},
   "source": [
    "### Softmax Test"
   ]
  },
  {
   "cell_type": "code",
   "execution_count": 8,
   "id": "6806eaca",
   "metadata": {},
   "outputs": [
    {
     "name": "stdout",
     "output_type": "stream",
     "text": [
      "[[0.52325135 0.17064957 0.30502486 0.00107424]]\n"
     ]
    },
    {
     "data": {
      "text/plain": [
       "0.9989258"
      ]
     },
     "execution_count": 8,
     "metadata": {},
     "output_type": "execute_result"
    }
   ],
   "source": [
    "test_data = [[1,1,1,1, 1]]\n",
    "test_data = np.asarray(test_data, dtype=np.float32)\n",
    "\n",
    "print(hypothesis(test_data).numpy())\n",
    "hypothesis(test_data).numpy()[0,0] + hypothesis(test_data).numpy()[0,1] + hypothesis(test_data).numpy()[0,2]"
   ]
  },
  {
   "cell_type": "markdown",
   "id": "fbae2ae7",
   "metadata": {},
   "source": [
    "### Cost Function"
   ]
  },
  {
   "cell_type": "code",
   "execution_count": 9,
   "id": "8edda5f7",
   "metadata": {},
   "outputs": [
    {
     "name": "stdout",
     "output_type": "stream",
     "text": [
      "tf.Tensor(20.417324, shape=(), dtype=float32)\n"
     ]
    }
   ],
   "source": [
    "def cost_fn(X, Y):\n",
    "    logits = hypothesis(X)\n",
    "    cost = -tf.reduce_sum(Y * tf.math.log(logits), axis=1)\n",
    "    cost_mean = tf.reduce_mean(cost)\n",
    "    return cost_mean\n",
    "\n",
    "print(cost_fn(x_data, y_data))"
   ]
  },
  {
   "cell_type": "markdown",
   "id": "7575e5f4",
   "metadata": {},
   "source": [
    "### Grad Function"
   ]
  },
  {
   "cell_type": "code",
   "execution_count": 10,
   "id": "cab0f5db",
   "metadata": {},
   "outputs": [
    {
     "name": "stdout",
     "output_type": "stream",
     "text": [
      "[<tf.Tensor: shape=(5, 4), dtype=float32, numpy=\n",
      "array([[ 3.2749329 , -1.0629096 , -0.91144466, -1.2995596 ],\n",
      "       [ 3.143158  , -1.5174234 , -0.02537942, -1.5993633 ],\n",
      "       [ 5.9496765 , -2.3537567 , -0.7946999 , -2.7991934 ],\n",
      "       [ 5.7520447 , -2.3538916 , -0.69694257, -2.6992178 ],\n",
      "       [ 3.0956116 , -1.4532737 ,  0.25805187, -1.8994131 ]],\n",
      "      dtype=float32)>, <tf.Tensor: shape=(4,), dtype=float32, numpy=array([ 1.0822477 , -0.36328137, -0.21908961, -0.49987677], dtype=float32)>]\n"
     ]
    }
   ],
   "source": [
    "variables = [W, b]\n",
    "\n",
    "def grad_fn(X, Y):\n",
    "    with tf.GradientTape() as tape:\n",
    "        loss = cost_fn(X, Y)\n",
    "        grads = tape.gradient(loss, variables)\n",
    "        return grads\n",
    "\n",
    "print(grad_fn(x_data, y_data))"
   ]
  },
  {
   "cell_type": "markdown",
   "id": "8d4e7313",
   "metadata": {},
   "source": [
    "## 실행"
   ]
  },
  {
   "cell_type": "code",
   "execution_count": 11,
   "id": "cc38fabc",
   "metadata": {},
   "outputs": [
    {
     "name": "stdout",
     "output_type": "stream",
     "text": [
      "Loss at epoch 0: 13.963247\n",
      "Loss at epoch 100: 3.093402\n",
      "Loss at epoch 200: 3.695320\n",
      "Loss at epoch 300: 3.437299\n",
      "Loss at epoch 400: 2.589703\n",
      "Loss at epoch 500: 3.178094\n",
      "Loss at epoch 600: 1.368631\n",
      "Loss at epoch 700: 1.553446\n",
      "Loss at epoch 800: 2.220654\n",
      "Loss at epoch 900: 3.928717\n",
      "Loss at epoch 1000: 2.789635\n",
      "Loss at epoch 1100: 2.146314\n",
      "Loss at epoch 1200: 2.421554\n",
      "Loss at epoch 1300: 1.477973\n",
      "Loss at epoch 1400: 1.337086\n",
      "Loss at epoch 1500: 1.534202\n",
      "Loss at epoch 1600: 2.825971\n",
      "Loss at epoch 1700: 2.990759\n",
      "Loss at epoch 1800: 1.238104\n",
      "Loss at epoch 1900: 2.709354\n"
     ]
    }
   ],
   "source": [
    "def fit(X, Y):\n",
    "    optimizer =  tf.keras.optimizers.SGD(learning_rate=0.1)\n",
    "\n",
    "    for i in range(2000):\n",
    "        grads = grad_fn(X, Y)\n",
    "        optimizer.apply_gradients(zip(grads, variables))\n",
    "        if (i%100==0):\n",
    "            print('Loss at epoch %d: %f' %(i, cost_fn(X, Y).numpy()))\n",
    "\n",
    "fit(x_data, y_data)"
   ]
  },
  {
   "cell_type": "markdown",
   "id": "dd3ca415",
   "metadata": {},
   "source": [
    "## Prediction"
   ]
  },
  {
   "cell_type": "code",
   "execution_count": 12,
   "id": "3af3e2d2",
   "metadata": {},
   "outputs": [
    {
     "name": "stdout",
     "output_type": "stream",
     "text": [
      "[[1.0268749e-05 3.5410203e-02 2.4663754e-01 7.1794206e-01]]\n",
      "tf.Tensor([3], shape=(1,), dtype=int64)\n"
     ]
    }
   ],
   "source": [
    "x_test = [[2,1,3,2, 2]] #  [[0,0,1]] : 고양이\n",
    "x_test = np.asarray(x_test, dtype=np.float32)\n",
    "\n",
    "result = hypothesis(x_test)\n",
    "\n",
    "print(result.numpy() )\n",
    "print(tf.argmax(result , 1))"
   ]
  },
  {
   "cell_type": "markdown",
   "id": "dc972d15",
   "metadata": {},
   "source": [
    "## x_data로 검증"
   ]
  },
  {
   "cell_type": "code",
   "execution_count": 13,
   "id": "0090264b",
   "metadata": {},
   "outputs": [
    {
     "name": "stdout",
     "output_type": "stream",
     "text": [
      "tf.Tensor(\n",
      "[[2.9328426e-06 2.1767025e-03 9.9773067e-01 8.9696077e-05]\n",
      " [1.0268749e-05 3.5410203e-02 2.4663754e-01 7.1794206e-01]\n",
      " [2.1166897e-09 2.6829275e-01 7.2583294e-01 5.8743088e-03]\n",
      " [3.2201247e-10 2.2008103e-01 2.5921732e-02 7.5399721e-01]\n",
      " [1.8613661e-02 8.2823390e-01 4.2622481e-03 1.4889021e-01]\n",
      " [3.3024459e-03 1.9710743e-01 4.7879269e-07 7.9958957e-01]\n",
      " [3.3800760e-01 1.0420356e-01 1.0222906e-06 5.5778784e-01]\n",
      " [3.7578899e-01 5.5231705e-02 2.4108148e-08 5.6897932e-01]\n",
      " [4.1203950e-08 9.7654110e-01 9.9309720e-04 2.2465833e-02]\n",
      " [2.0313263e-22 2.4163724e-01 8.6637206e-02 6.7172557e-01]], shape=(10, 4), dtype=float32)\n",
      "tf.Tensor([2 3 2 3 1 3 3 3 1 3], shape=(10,), dtype=int64)\n",
      "tf.Tensor([2 2 2 1 1 1 0 0 0 1], shape=(10,), dtype=int64)\n"
     ]
    }
   ],
   "source": [
    "result = hypothesis(x_data)\n",
    "print(result)\n",
    "print(tf.argmax(result, 1))\n",
    "print(tf.argmax(y_data, 1))"
   ]
  }
 ],
 "metadata": {
  "kernelspec": {
   "display_name": "Python 3 (ipykernel)",
   "language": "python",
   "name": "python3"
  },
  "language_info": {
   "codemirror_mode": {
    "name": "ipython",
    "version": 3
   },
   "file_extension": ".py",
   "mimetype": "text/x-python",
   "name": "python",
   "nbconvert_exporter": "python",
   "pygments_lexer": "ipython3",
   "version": "3.7.13"
  }
 },
 "nbformat": 4,
 "nbformat_minor": 5
}
