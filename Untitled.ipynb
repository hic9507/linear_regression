{
 "cells": [
  {
   "cell_type": "code",
   "execution_count": 1,
   "id": "5d5f8d40",
   "metadata": {},
   "outputs": [],
   "source": [
    "import numpy as np\n",
    "import matplotlib.pyplot as plt\n",
    "%matplotlib inline"
   ]
  },
  {
   "cell_type": "code",
   "execution_count": 2,
   "id": "f294ada5",
   "metadata": {
    "scrolled": true
   },
   "outputs": [
    {
     "name": "stdout",
     "output_type": "stream",
     "text": [
      "False True 0 27 <class 'int'>\n"
     ]
    }
   ],
   "source": [
    "a, b = 3 ,3\n",
    "print(a>b, a>=b, a%b, a**b, type(a))"
   ]
  },
  {
   "cell_type": "code",
   "execution_count": 3,
   "id": "68fdd69d",
   "metadata": {},
   "outputs": [
    {
     "name": "stdout",
     "output_type": "stream",
     "text": [
      "hello*hello \"world\"*o*HELLO\n"
     ]
    }
   ],
   "source": [
    "a, b = 'hello', 'hello \"world\"'\n",
    "print(a, b, a[-1], a.upper(), sep='*')"
   ]
  },
  {
   "cell_type": "code",
   "execution_count": 4,
   "id": "477fdf11",
   "metadata": {},
   "outputs": [
    {
     "name": "stdout",
     "output_type": "stream",
     "text": [
      "HHHELLO\n"
     ]
    }
   ],
   "source": [
    "a= \"hello\".replace('h', 'hhh').upper()\n",
    "print(a)"
   ]
  },
  {
   "cell_type": "code",
   "execution_count": 5,
   "id": "cc471c8d",
   "metadata": {},
   "outputs": [
    {
     "name": "stdout",
     "output_type": "stream",
     "text": [
      "hello \"world\" he el lo \"world\"\n"
     ]
    }
   ],
   "source": [
    "b = 'hello \"world\"'\n",
    "print(b[:], b[:2], b[1:3], b[3:])"
   ]
  },
  {
   "cell_type": "code",
   "execution_count": 6,
   "id": "1fe7d42b",
   "metadata": {},
   "outputs": [
    {
     "name": "stdout",
     "output_type": "stream",
     "text": [
      "(1, 2, 3) [1, 2, 3]\n"
     ]
    }
   ],
   "source": [
    "c = 1, 2, 3\n",
    "d = list(c)\n",
    "print(c, d)"
   ]
  },
  {
   "cell_type": "code",
   "execution_count": 7,
   "id": "a11176a4",
   "metadata": {},
   "outputs": [
    {
     "name": "stdout",
     "output_type": "stream",
     "text": [
      "[1, 3, 4, 5]\n"
     ]
    }
   ],
   "source": [
    "a = [1, 2, 3, 4, 5]\n",
    "a.remove(2)\n",
    "print(a)"
   ]
  },
  {
   "cell_type": "code",
   "execution_count": 8,
   "id": "985f8562",
   "metadata": {},
   "outputs": [
    {
     "name": "stdout",
     "output_type": "stream",
     "text": [
      "True\n"
     ]
    }
   ],
   "source": [
    "a = [1, 2, 3, 4, 5]\n",
    "b = 4\n",
    "c = b in a\n",
    "print(c)"
   ]
  },
  {
   "cell_type": "code",
   "execution_count": 9,
   "id": "24997f43",
   "metadata": {},
   "outputs": [
    {
     "name": "stdout",
     "output_type": "stream",
     "text": [
      "<class 'dict'> korea dict_keys([100, 200, 300, 0]) dict_values([2, 3, 'seoul', 'korea'])\n"
     ]
    }
   ],
   "source": [
    "a = {100:2, 200:3, 300:'seoul', 0:'korea'}\n",
    "print(type(a), a[0], a.keys(), a.values())"
   ]
  },
  {
   "cell_type": "code",
   "execution_count": 10,
   "id": "2ecbd4b6",
   "metadata": {},
   "outputs": [
    {
     "name": "stdout",
     "output_type": "stream",
     "text": [
      "False 4\n"
     ]
    }
   ],
   "source": [
    "a = {1:2, 3:4, 5:6, 7:8}\n",
    "c = 2 in a\n",
    "print(c, a.get(3))"
   ]
  },
  {
   "cell_type": "code",
   "execution_count": null,
   "id": "02bb0df5",
   "metadata": {},
   "outputs": [],
   "source": []
  }
 ],
 "metadata": {
  "kernelspec": {
   "display_name": "Python 3 (ipykernel)",
   "language": "python",
   "name": "python3"
  },
  "language_info": {
   "codemirror_mode": {
    "name": "ipython",
    "version": 3
   },
   "file_extension": ".py",
   "mimetype": "text/x-python",
   "name": "python",
   "nbconvert_exporter": "python",
   "pygments_lexer": "ipython3",
   "version": "3.8.16"
  }
 },
 "nbformat": 4,
 "nbformat_minor": 5
}
