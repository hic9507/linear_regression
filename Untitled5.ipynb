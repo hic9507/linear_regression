{
 "cells": [
  {
   "cell_type": "code",
   "execution_count": 1,
   "id": "a7e92002",
   "metadata": {},
   "outputs": [],
   "source": [
    "import numpy as np"
   ]
  },
  {
   "cell_type": "code",
   "execution_count": 2,
   "id": "23c75afb",
   "metadata": {},
   "outputs": [
    {
     "name": "stdout",
     "output_type": "stream",
     "text": [
      "21.419999999999998\n"
     ]
    }
   ],
   "source": [
    "x, w ,b = 2022, 0.01, 1.2\n",
    "H = w*x + b\n",
    "print(H)"
   ]
  },
  {
   "cell_type": "code",
   "execution_count": 3,
   "id": "c40eabba",
   "metadata": {},
   "outputs": [
    {
     "name": "stdout",
     "output_type": "stream",
     "text": [
      "35.562\n"
     ]
    }
   ],
   "source": [
    "x1, x2, x3 = 2020, 2021, 2022\n",
    "w1, w2 ,w3 = 0.005, 0.002, 0.01\n",
    "b = 1.2\n",
    "H = w1*x1 + w2*x2 + w3*x3 + b\n",
    "print(H)"
   ]
  },
  {
   "cell_type": "code",
   "execution_count": 4,
   "id": "6cc41c24",
   "metadata": {},
   "outputs": [
    {
     "name": "stdout",
     "output_type": "stream",
     "text": [
      "[[10.1  ]\n",
      " [ 4.042]\n",
      " [20.22 ]\n",
      " [ 1.2  ]]\n"
     ]
    }
   ],
   "source": [
    "print(np.array([[w1*x1], [w2*x2], [w3*x3], [b]]))"
   ]
  },
  {
   "cell_type": "code",
   "execution_count": 5,
   "id": "56290a30",
   "metadata": {},
   "outputs": [
    {
     "name": "stdout",
     "output_type": "stream",
     "text": [
      "[10.1    4.042 20.22   1.2  ]\n"
     ]
    }
   ],
   "source": [
    "print(np.array([(w1*x1), (w2*x2), (w3*x3), (b)]))"
   ]
  },
  {
   "cell_type": "code",
   "execution_count": 6,
   "id": "455e5fb1",
   "metadata": {},
   "outputs": [
    {
     "name": "stderr",
     "output_type": "stream",
     "text": [
      "C:\\Users\\user\\anaconda3\\envs\\bigdata\\lib\\site-packages\\ipykernel_launcher.py:1: VisibleDeprecationWarning: Creating an ndarray from ragged nested sequences (which is a list-or-tuple of lists-or-tuples-or ndarrays with different lengths or shapes) is deprecated. If you meant to do this, you must specify 'dtype=object' when creating the ndarray.\n",
      "  \"\"\"Entry point for launching an IPython kernel.\n"
     ]
    },
    {
     "data": {
      "text/plain": [
       "array([(0.005, 2020), (0.002, 2021), (0.01, 2022), 1.2], dtype=object)"
      ]
     },
     "execution_count": 6,
     "metadata": {},
     "output_type": "execute_result"
    }
   ],
   "source": [
    "np.array([(w1, x1), (w2, x2), (w3, x3), (b)])"
   ]
  },
  {
   "cell_type": "code",
   "execution_count": 7,
   "id": "f073e182",
   "metadata": {},
   "outputs": [
    {
     "name": "stdout",
     "output_type": "stream",
     "text": [
      "[[35.562]]\n",
      "[[10.1    4.042 20.22   1.2  ]]\n"
     ]
    }
   ],
   "source": [
    "x = np.array([[x1, x2, x3, 1]])\n",
    "w = np.array([[w1], [w2], [w3], [b]])\n",
    "H_matrix = np.dot(x, w)\n",
    "print(H_matrix)\n",
    "\n",
    "print(np.array([[w1*x1, w2*x2, w3*x3, b]]))\n"
   ]
  },
  {
   "cell_type": "code",
   "execution_count": null,
   "id": "219dc528",
   "metadata": {},
   "outputs": [],
   "source": []
  }
 ],
 "metadata": {
  "kernelspec": {
   "display_name": "Python 3 (ipykernel)",
   "language": "python",
   "name": "python3"
  },
  "language_info": {
   "codemirror_mode": {
    "name": "ipython",
    "version": 3
   },
   "file_extension": ".py",
   "mimetype": "text/x-python",
   "name": "python",
   "nbconvert_exporter": "python",
   "pygments_lexer": "ipython3",
   "version": "3.7.13"
  }
 },
 "nbformat": 4,
 "nbformat_minor": 5
}
