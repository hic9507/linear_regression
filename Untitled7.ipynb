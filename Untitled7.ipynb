{
  "nbformat": 4,
  "nbformat_minor": 0,
  "metadata": {
    "colab": {
      "provenance": [],
      "gpuType": "T4"
    },
    "kernelspec": {
      "name": "python3",
      "display_name": "Python 3"
    },
    "language_info": {
      "name": "python"
    },
    "accelerator": "GPU"
  },
  "cells": [
    {
      "cell_type": "code",
      "source": [
        "## Logistic Classification(Regression)"
      ],
      "metadata": {
        "id": "73JHwRjXpJ0U"
      },
      "execution_count": 70,
      "outputs": []
    },
    {
      "cell_type": "code",
      "execution_count": 71,
      "metadata": {
        "colab": {
          "base_uri": "https://localhost:8080/"
        },
        "id": "5FsD737_n0Eg",
        "outputId": "17b6bb3b-0f95-4e11-b0b1-fc5d0e68022f"
      },
      "outputs": [
        {
          "output_type": "stream",
          "name": "stdout",
          "text": [
            "2.14.0\n"
          ]
        }
      ],
      "source": [
        "import tensorflow as tf\n",
        "import pandas as pd\n",
        "import numpy as np\n",
        "import matplotlib.pyplot as plt\n",
        "\n",
        "print(tf.__version__)\n"
      ]
    },
    {
      "cell_type": "code",
      "source": [
        "##  데이터 생성\n",
        "\n",
        "#- x_train : 학습 데이터\n",
        "#- x_test  : 테스트 데이터"
      ],
      "metadata": {
        "id": "DpDiVasXpSOI"
      },
      "execution_count": 72,
      "outputs": []
    },
    {
      "cell_type": "code",
      "source": [
        "x_train = [[1., 2.], [2., 3.], [3., 1.], [4., 3.], [5., 3.], [7., 2.], [8., 2.], [9., 2.], [1., 8.], [9., 8.]]\n",
        "y_train = [[0.], [0.], [0.], [0.], [0.], [0.], [0.], [0.], [0.], [1.]]\n",
        "\n",
        "x_test = [[5.,2.]]\n",
        "y_test = [[1.]]\n",
        "\n",
        "\n",
        "x1 = [x[0] for x in x_train]\n",
        "x2 = [x[1] for x in x_train]\n",
        "\n",
        "print(\"x1 = \",x1)\n",
        "print(\"x2 = \",x2)"
      ],
      "metadata": {
        "colab": {
          "base_uri": "https://localhost:8080/"
        },
        "id": "sN3RUA4Ln1Rp",
        "outputId": "77eb4630-ac0b-4f99-ee12-51bc941fe620"
      },
      "execution_count": 73,
      "outputs": [
        {
          "output_type": "stream",
          "name": "stdout",
          "text": [
            "x1 =  [1.0, 2.0, 3.0, 4.0, 5.0, 7.0, 8.0, 9.0, 1.0, 9.0]\n",
            "x2 =  [2.0, 3.0, 1.0, 3.0, 3.0, 2.0, 2.0, 2.0, 8.0, 8.0]\n"
          ]
        }
      ]
    },
    {
      "cell_type": "code",
      "source": [
        "## 그래프 작성"
      ],
      "metadata": {
        "id": "IxNfgN__pWI4"
      },
      "execution_count": 74,
      "outputs": []
    },
    {
      "cell_type": "code",
      "source": [
        "for y in y_train:\n",
        "  print ([int(y[0]%2)])\n",
        "\n",
        "colors = [int(y[0] % 2) for y in y_train]\n",
        "print(\"colors = \", colors)\n",
        "\n",
        "plt.scatter(x1,x2, c=colors , marker='^')\n",
        "plt.scatter(x_test[0][0],x_test[0][1], c=\"red\")\n",
        "\n",
        "plt.xlabel(\"x1\")\n",
        "plt.ylabel(\"x2\")\n",
        "plt.show()"
      ],
      "metadata": {
        "colab": {
          "base_uri": "https://localhost:8080/",
          "height": 651
        },
        "id": "u3U4Za5totrB",
        "outputId": "81e6ece6-39c7-406f-f464-09bbd60dca32"
      },
      "execution_count": 75,
      "outputs": [
        {
          "output_type": "stream",
          "name": "stdout",
          "text": [
            "[0]\n",
            "[0]\n",
            "[0]\n",
            "[0]\n",
            "[0]\n",
            "[0]\n",
            "[0]\n",
            "[0]\n",
            "[0]\n",
            "[1]\n",
            "colors =  [0, 0, 0, 0, 0, 0, 0, 0, 0, 1]\n"
          ]
        },
        {
          "output_type": "display_data",
          "data": {
            "text/plain": [
              "<Figure size 640x480 with 1 Axes>"
            ],
            "image/png": "[encoded data removed]"
          },
          "metadata": {}
        }
      ]
    },
    {
      "cell_type": "code",
      "source": [
        "## 데이터 변환- numpy array"
      ],
      "metadata": {
        "id": "V8xaPGNHpGT7"
      },
      "execution_count": 76,
      "outputs": []
    },
    {
      "cell_type": "code",
      "source": [
        "dataset = tf.data.Dataset.from_tensor_slices((x_train, y_train)).batch(len(x_train))\n",
        "print(dataset)\n",
        "\n",
        "for features, labels  in dataset:\n",
        "  print(\"feature = \", features)\n",
        "  print(\"labels = \",labels)"
      ],
      "metadata": {
        "colab": {
          "base_uri": "https://localhost:8080/"
        },
        "id": "MMkgfbpzpYYU",
        "outputId": "2a2ca13b-e030-49f8-fe83-4cc7d96bcf3f"
      },
      "execution_count": 77,
      "outputs": [
        {
          "output_type": "stream",
          "name": "stdout",
          "text": [
            "<_BatchDataset element_spec=(TensorSpec(shape=(None, 2), dtype=tf.float32, name=None), TensorSpec(shape=(None, 1), dtype=tf.float32, name=None))>\n",
            "feature =  tf.Tensor(\n",
            "[[1. 2.]\n",
            " [2. 3.]\n",
            " [3. 1.]\n",
            " [4. 3.]\n",
            " [5. 3.]\n",
            " [7. 2.]\n",
            " [8. 2.]\n",
            " [9. 2.]\n",
            " [1. 8.]\n",
            " [9. 8.]], shape=(10, 2), dtype=float32)\n",
            "labels =  tf.Tensor(\n",
            "[[0.]\n",
            " [0.]\n",
            " [0.]\n",
            " [0.]\n",
            " [0.]\n",
            " [0.]\n",
            " [0.]\n",
            " [0.]\n",
            " [0.]\n",
            " [1.]], shape=(10, 1), dtype=float32)\n"
          ]
        }
      ]
    },
    {
      "cell_type": "code",
      "source": [
        "## 파라메터 정의"
      ],
      "metadata": {
        "id": "5k9iN9yHps8f"
      },
      "execution_count": 78,
      "outputs": []
    },
    {
      "cell_type": "code",
      "source": [
        "W = tf.Variable(tf.zeros([2,1]), name='weight')\n",
        "b = tf.Variable(tf.zeros([1]), name='bias')\n",
        "\n",
        "print(\"weigths = \",W)\n",
        "print(\"bias = \",b)"
      ],
      "metadata": {
        "colab": {
          "base_uri": "https://localhost:8080/"
        },
        "id": "xWtVRoyKps-x",
        "outputId": "3173dfab-4045-4db6-d849-1e97902fd733"
      },
      "execution_count": 79,
      "outputs": [
        {
          "output_type": "stream",
          "name": "stdout",
          "text": [
            "weigths =  <tf.Variable 'weight:0' shape=(2, 1) dtype=float32, numpy=\n",
            "array([[0.],\n",
            "       [0.]], dtype=float32)>\n",
            "bias =  <tf.Variable 'bias:0' shape=(1,) dtype=float32, numpy=array([0.], dtype=float32)>\n"
          ]
        }
      ]
    },
    {
      "cell_type": "code",
      "source": [
        "## 함수 정의"
      ],
      "metadata": {
        "id": "0u0DDc6bptA0"
      },
      "execution_count": 80,
      "outputs": []
    },
    {
      "cell_type": "code",
      "source": [
        "#def logistic_regression(features):\n",
        "#    hypothesis  = tf.divide(1., 1. + tf.exp(-(tf.matmul(features, W) + b)))\n",
        "#    return hypothesis\n",
        "\n",
        "def logistic_regression(features):\n",
        "    hypothesis  = tf.sigmoid(tf.matmul(features, W) + b)\n",
        "    return hypothesis\n",
        "\n",
        "def loss_fn(hypothesis, features, labels):\n",
        "    cost = -tf.reduce_mean(labels * tf.math.log(logistic_regression(features))\n",
        "                            + (1 - labels) * tf.math.log(1 - hypothesis))\n",
        "    return cost\n",
        "\n",
        "optimizer = tf.keras.optimizers.SGD(learning_rate=0.01)\n",
        "\n",
        "def accuracy_fn(hypothesis, labels):\n",
        "    predicted = tf.cast(hypothesis > 0.5, dtype=tf.float32)\n",
        "    accuracy = tf.reduce_mean(tf.cast(tf.equal(predicted, labels), dtype=tf.float32))\n",
        "    return accuracy\n",
        "\n",
        "def grad(features, labels):\n",
        "    with tf.GradientTape() as tape:\n",
        "        loss_value = loss_fn(logistic_regression(features),features,labels)\n",
        "    return tape.gradient(loss_value, [W,b])\n",
        "\n"
      ],
      "metadata": {
        "id": "IzueXIoSptDM"
      },
      "execution_count": 81,
      "outputs": []
    },
    {
      "cell_type": "code",
      "source": [
        "print(\"feature = \", features)\n",
        "\n",
        "W = tf.Variable(tf.zeros([2,1]), name='weight')\n",
        "b = tf.Variable(tf.ones([1]), name='bias')\n",
        "print(\"weigths = \",W)\n",
        "print(\"bias = \",b)\n",
        "\n",
        "\n",
        "hypothesis  = tf.sigmoid(tf.matmul(features, W) + b)\n",
        "\n",
        "print(\"hypothesis = \", hypothesis)"
      ],
      "metadata": {
        "colab": {
          "base_uri": "https://localhost:8080/"
        },
        "id": "cCC9tSwQptFN",
        "outputId": "e75e8f69-22ab-4b9a-9489-e1da94104fd3"
      },
      "execution_count": 82,
      "outputs": [
        {
          "output_type": "stream",
          "name": "stdout",
          "text": [
            "feature =  tf.Tensor(\n",
            "[[1. 2.]\n",
            " [2. 3.]\n",
            " [3. 1.]\n",
            " [4. 3.]\n",
            " [5. 3.]\n",
            " [7. 2.]\n",
            " [8. 2.]\n",
            " [9. 2.]\n",
            " [1. 8.]\n",
            " [9. 8.]], shape=(10, 2), dtype=float32)\n",
            "weigths =  <tf.Variable 'weight:0' shape=(2, 1) dtype=float32, numpy=\n",
            "array([[0.],\n",
            "       [0.]], dtype=float32)>\n",
            "bias =  <tf.Variable 'bias:0' shape=(1,) dtype=float32, numpy=array([1.], dtype=float32)>\n",
            "hypothesis =  tf.Tensor(\n",
            "[[0.73105854]\n",
            " [0.73105854]\n",
            " [0.73105854]\n",
            " [0.73105854]\n",
            " [0.73105854]\n",
            " [0.73105854]\n",
            " [0.73105854]\n",
            " [0.73105854]\n",
            " [0.73105854]\n",
            " [0.73105854]], shape=(10, 1), dtype=float32)\n"
          ]
        }
      ]
    },
    {
      "cell_type": "code",
      "source": [
        "W =  tf.constant([[1.],[2.]])\n",
        "print(\" Weight = \",W)\n",
        "\n",
        "b =  tf.constant([1.])\n",
        "print(\" bias = \",b)"
      ],
      "metadata": {
        "colab": {
          "base_uri": "https://localhost:8080/"
        },
        "id": "Vav-cvaIptHd",
        "outputId": "e6ef5086-5bb5-4b56-f5f8-2ed5ac82be0a"
      },
      "execution_count": 83,
      "outputs": [
        {
          "output_type": "stream",
          "name": "stdout",
          "text": [
            " Weight =  tf.Tensor(\n",
            "[[1.]\n",
            " [2.]], shape=(2, 1), dtype=float32)\n",
            " bias =  tf.Tensor([1.], shape=(1,), dtype=float32)\n"
          ]
        }
      ]
    },
    {
      "cell_type": "code",
      "source": [
        "### hypothesis 함수"
      ],
      "metadata": {
        "id": "Er44ZWbsp41g"
      },
      "execution_count": 84,
      "outputs": []
    },
    {
      "cell_type": "code",
      "source": [
        "hypothesis  = tf.sigmoid(tf.matmul(features, W) + b)\n",
        "print(\"hypothesis = \", hypothesis)"
      ],
      "metadata": {
        "colab": {
          "base_uri": "https://localhost:8080/"
        },
        "id": "X4GQzaVGp_Vd",
        "outputId": "b4a1c854-09e1-4792-f96d-5a984e17e231"
      },
      "execution_count": 85,
      "outputs": [
        {
          "output_type": "stream",
          "name": "stdout",
          "text": [
            "hypothesis =  tf.Tensor(\n",
            "[[0.9975274 ]\n",
            " [0.9998766 ]\n",
            " [0.9975274 ]\n",
            " [0.9999833 ]\n",
            " [0.9999938 ]\n",
            " [0.9999938 ]\n",
            " [0.99999774]\n",
            " [0.99999917]\n",
            " [1.        ]\n",
            " [1.        ]], shape=(10, 1), dtype=float32)\n"
          ]
        }
      ]
    },
    {
      "cell_type": "code",
      "source": [
        "### tf.cast 함수"
      ],
      "metadata": {
        "id": "e3GJCzGSp_Xw"
      },
      "execution_count": 86,
      "outputs": []
    },
    {
      "cell_type": "code",
      "source": [
        "predicted = tf.cast(hypothesis > 0.5, dtype=tf.float32)\n",
        "print(\"tf.cast = \", predicted)"
      ],
      "metadata": {
        "colab": {
          "base_uri": "https://localhost:8080/"
        },
        "id": "lOVAGyn8p_aD",
        "outputId": "308c6be1-9d4e-4231-963d-02555047124a"
      },
      "execution_count": 87,
      "outputs": [
        {
          "output_type": "stream",
          "name": "stdout",
          "text": [
            "tf.cast =  tf.Tensor(\n",
            "[[1.]\n",
            " [1.]\n",
            " [1.]\n",
            " [1.]\n",
            " [1.]\n",
            " [1.]\n",
            " [1.]\n",
            " [1.]\n",
            " [1.]\n",
            " [1.]], shape=(10, 1), dtype=float32)\n"
          ]
        }
      ]
    },
    {
      "cell_type": "code",
      "source": [
        "### tf. equal 함수"
      ],
      "metadata": {
        "id": "CFE16tUup_cS"
      },
      "execution_count": 88,
      "outputs": []
    },
    {
      "cell_type": "code",
      "source": [
        "tmp = tf.equal(predicted, labels)\n",
        "print(\"tf.equal = \", tmp)\n",
        "tmp = tf.cast(tf.equal(predicted, labels), dtype=tf.float32)\n",
        "print(\"tf.cast = \", tmp)\n",
        "accuracy = tf.reduce_mean(tmp)\n",
        "\n",
        "print(\"tf.reduce_mean = \", accuracy)"
      ],
      "metadata": {
        "colab": {
          "base_uri": "https://localhost:8080/"
        },
        "id": "Pwe8tqsAp_eg",
        "outputId": "07a93065-cb82-412f-eb98-2d340da84cf5"
      },
      "execution_count": 89,
      "outputs": [
        {
          "output_type": "stream",
          "name": "stdout",
          "text": [
            "tf.equal =  tf.Tensor(\n",
            "[[False]\n",
            " [False]\n",
            " [False]\n",
            " [False]\n",
            " [False]\n",
            " [False]\n",
            " [False]\n",
            " [False]\n",
            " [False]\n",
            " [ True]], shape=(10, 1), dtype=bool)\n",
            "tf.cast =  tf.Tensor(\n",
            "[[0.]\n",
            " [0.]\n",
            " [0.]\n",
            " [0.]\n",
            " [0.]\n",
            " [0.]\n",
            " [0.]\n",
            " [0.]\n",
            " [0.]\n",
            " [1.]], shape=(10, 1), dtype=float32)\n",
            "tf.reduce_mean =  tf.Tensor(0.1, shape=(), dtype=float32)\n"
          ]
        }
      ]
    },
    {
      "cell_type": "code",
      "source": [
        "EPOCHS = 1501\n",
        "\n",
        "W = tf.Variable(tf.zeros([2,1]), name='weight')\n",
        "b = tf.Variable(tf.zeros([1]), name='bias')\n",
        "\n",
        "\n",
        "x_test = [[5.,2.]]\n",
        "# y_test = [[1.]]   # Accuracy: 0.0000\n",
        "y_test = [[0.]]   # Accuracy: 1.0000\n",
        "\n",
        "for step in range(EPOCHS):\n",
        "    for features, labels  in iter(dataset):\n",
        "        grads = grad(features, labels)\n",
        "        optimizer.apply_gradients(grads_and_vars=zip(grads,[W,b]))\n",
        "        if step % 100 == 0:\n",
        "            print(\"Iter: {}, Loss: {:.4f}\"\n",
        "              .format(step, loss_fn(logistic_regression(features),features,labels)))\n",
        "test_acc = accuracy_fn(logistic_regression(x_test),y_test)\n",
        "print(\"Test data Accuracy: {:.4f}\".format(test_acc))"
      ],
      "metadata": {
        "colab": {
          "base_uri": "https://localhost:8080/"
        },
        "id": "eRqn4tSap_g6",
        "outputId": "864faefa-4f15-4513-9303-868e1a53a1f8"
      },
      "execution_count": 90,
      "outputs": [
        {
          "output_type": "stream",
          "name": "stdout",
          "text": [
            "Iter: 0, Loss: 0.6613\n",
            "Iter: 100, Loss: 0.5035\n",
            "Iter: 200, Loss: 0.4841\n",
            "Iter: 300, Loss: 0.4660\n",
            "Iter: 400, Loss: 0.4489\n",
            "Iter: 500, Loss: 0.4329\n",
            "Iter: 600, Loss: 0.4177\n",
            "Iter: 700, Loss: 0.4034\n",
            "Iter: 800, Loss: 0.3900\n",
            "Iter: 900, Loss: 0.3773\n",
            "Iter: 1000, Loss: 0.3654\n",
            "Iter: 1100, Loss: 0.3541\n",
            "Iter: 1200, Loss: 0.3434\n",
            "Iter: 1300, Loss: 0.3333\n",
            "Iter: 1400, Loss: 0.3238\n",
            "Iter: 1500, Loss: 0.3148\n",
            "Test data Accuracy: 1.0000\n"
          ]
        }
      ]
    }
  ]
}